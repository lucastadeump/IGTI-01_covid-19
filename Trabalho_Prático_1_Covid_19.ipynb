{
  "nbformat": 4,
  "nbformat_minor": 0,
  "metadata": {
    "kernelspec": {
      "display_name": "Python 3",
      "language": "python",
      "name": "python3"
    },
    "language_info": {
      "codemirror_mode": {
        "name": "ipython",
        "version": 3
      },
      "file_extension": ".py",
      "mimetype": "text/x-python",
      "name": "python",
      "nbconvert_exporter": "python",
      "pygments_lexer": "ipython3",
      "version": "3.7.6"
    },
    "colab": {
      "name": "Trabalho Prático 1 - Covid-19.ipynb",
      "provenance": [],
      "include_colab_link": true
    }
  },
  "cells": [
    {
      "cell_type": "markdown",
      "metadata": {
        "id": "view-in-github",
        "colab_type": "text"
      },
      "source": [
        "<a href=\"https://colab.research.google.com/github/lucastadeump/IGTI-01_covid-19/blob/master/Trabalho_Pr%C3%A1tico_1_Covid_19.ipynb\" target=\"_parent\"><img src=\"https://colab.research.google.com/assets/colab-badge.svg\" alt=\"Open In Colab\"/></a>"
      ]
    },
    {
      "cell_type": "markdown",
      "metadata": {
        "id": "yRs0c9EKRyyv",
        "colab_type": "text"
      },
      "source": [
        "# <center> IGTI - Bootcamp Online - Analista de Dados"
      ]
    },
    {
      "cell_type": "markdown",
      "metadata": {
        "id": "w4juLEnoRyyw",
        "colab_type": "text"
      },
      "source": [
        "## <center>Teste Prático 1 - COVID 19"
      ]
    },
    {
      "cell_type": "markdown",
      "metadata": {
        "id": "YLsVz6bORyyx",
        "colab_type": "text"
      },
      "source": [
        "**OBS**: Para a solução dos exercícios propostos, foi sugerida a utilização do Power BI. Este notebook foi criado para verificação das respostar obtidas no software.\n",
        "\n",
        "Atenção aos tipos de dados de cada coluna. Crie uma nova medida chamada “Active” para calcular o número de casos ativos, que é no caso é o valor da coluna “Confirmed” menos a soma das colunas “Recovered” e “Deaths”. Crie gráficos para facilitar a sua visualização, de acordo com a questão."
      ]
    },
    {
      "cell_type": "markdown",
      "metadata": {
        "id": "F4SNKLtkRyyx",
        "colab_type": "text"
      },
      "source": [
        "### Preparação do ambiente"
      ]
    },
    {
      "cell_type": "code",
      "metadata": {
        "id": "mYChVOVYRyyy",
        "colab_type": "code",
        "colab": {}
      },
      "source": [
        "#importando as bibliotecas e definindo configurações\n",
        "import pandas as pd\n",
        "%precision %.2f\n",
        "pd.options.display.float_format = '{:,.2f}'.format\n",
        "\n",
        "import warnings\n",
        "warnings.filterwarnings('ignore')\n",
        "\n",
        "import seaborn as sns\n",
        "sns.set(style=\"darkgrid\")\n",
        "\n",
        "import matplotlib.pyplot as plt\n",
        "%matplotlib inline"
      ],
      "execution_count": 0,
      "outputs": []
    },
    {
      "cell_type": "code",
      "metadata": {
        "id": "gnwiPkKVRyy3",
        "colab_type": "code",
        "colab": {
          "base_uri": "https://localhost:8080/",
          "height": 204
        },
        "outputId": "eae7442b-8b85-4c99-b818-9d627c8e8fb8"
      },
      "source": [
        "#importando os dados\n",
        "dados = pd.read_csv('https://raw.githubusercontent.com/lucastadeump/IGTI-01_covid-19/master/covid_19_data.csv')\n",
        "dados.head()"
      ],
      "execution_count": 2,
      "outputs": [
        {
          "output_type": "execute_result",
          "data": {
            "text/html": [
              "<div>\n",
              "<style scoped>\n",
              "    .dataframe tbody tr th:only-of-type {\n",
              "        vertical-align: middle;\n",
              "    }\n",
              "\n",
              "    .dataframe tbody tr th {\n",
              "        vertical-align: top;\n",
              "    }\n",
              "\n",
              "    .dataframe thead th {\n",
              "        text-align: right;\n",
              "    }\n",
              "</style>\n",
              "<table border=\"1\" class=\"dataframe\">\n",
              "  <thead>\n",
              "    <tr style=\"text-align: right;\">\n",
              "      <th></th>\n",
              "      <th>SNo</th>\n",
              "      <th>ObservationDate</th>\n",
              "      <th>Province/State</th>\n",
              "      <th>Country/Region</th>\n",
              "      <th>Last Update</th>\n",
              "      <th>Confirmed</th>\n",
              "      <th>Deaths</th>\n",
              "      <th>Recovered</th>\n",
              "    </tr>\n",
              "  </thead>\n",
              "  <tbody>\n",
              "    <tr>\n",
              "      <th>0</th>\n",
              "      <td>1</td>\n",
              "      <td>01/22/2020</td>\n",
              "      <td>Anhui</td>\n",
              "      <td>Mainland China</td>\n",
              "      <td>1/22/2020 17:00</td>\n",
              "      <td>1.00</td>\n",
              "      <td>0.00</td>\n",
              "      <td>0.00</td>\n",
              "    </tr>\n",
              "    <tr>\n",
              "      <th>1</th>\n",
              "      <td>2</td>\n",
              "      <td>01/22/2020</td>\n",
              "      <td>Beijing</td>\n",
              "      <td>Mainland China</td>\n",
              "      <td>1/22/2020 17:00</td>\n",
              "      <td>14.00</td>\n",
              "      <td>0.00</td>\n",
              "      <td>0.00</td>\n",
              "    </tr>\n",
              "    <tr>\n",
              "      <th>2</th>\n",
              "      <td>3</td>\n",
              "      <td>01/22/2020</td>\n",
              "      <td>Chongqing</td>\n",
              "      <td>Mainland China</td>\n",
              "      <td>1/22/2020 17:00</td>\n",
              "      <td>6.00</td>\n",
              "      <td>0.00</td>\n",
              "      <td>0.00</td>\n",
              "    </tr>\n",
              "    <tr>\n",
              "      <th>3</th>\n",
              "      <td>4</td>\n",
              "      <td>01/22/2020</td>\n",
              "      <td>Fujian</td>\n",
              "      <td>Mainland China</td>\n",
              "      <td>1/22/2020 17:00</td>\n",
              "      <td>1.00</td>\n",
              "      <td>0.00</td>\n",
              "      <td>0.00</td>\n",
              "    </tr>\n",
              "    <tr>\n",
              "      <th>4</th>\n",
              "      <td>5</td>\n",
              "      <td>01/22/2020</td>\n",
              "      <td>Gansu</td>\n",
              "      <td>Mainland China</td>\n",
              "      <td>1/22/2020 17:00</td>\n",
              "      <td>0.00</td>\n",
              "      <td>0.00</td>\n",
              "      <td>0.00</td>\n",
              "    </tr>\n",
              "  </tbody>\n",
              "</table>\n",
              "</div>"
            ],
            "text/plain": [
              "   SNo ObservationDate Province/State  ... Confirmed Deaths  Recovered\n",
              "0    1      01/22/2020          Anhui  ...      1.00   0.00       0.00\n",
              "1    2      01/22/2020        Beijing  ...     14.00   0.00       0.00\n",
              "2    3      01/22/2020      Chongqing  ...      6.00   0.00       0.00\n",
              "3    4      01/22/2020         Fujian  ...      1.00   0.00       0.00\n",
              "4    5      01/22/2020          Gansu  ...      0.00   0.00       0.00\n",
              "\n",
              "[5 rows x 8 columns]"
            ]
          },
          "metadata": {
            "tags": []
          },
          "execution_count": 2
        }
      ]
    },
    {
      "cell_type": "code",
      "metadata": {
        "id": "tVKuYXWPRyzE",
        "colab_type": "code",
        "colab": {}
      },
      "source": [
        "#criando a coluna 'Active'\n",
        "dados['Active'] = dados['Confirmed'] - (dados['Recovered'] + dados['Deaths'])"
      ],
      "execution_count": 0,
      "outputs": []
    },
    {
      "cell_type": "code",
      "metadata": {
        "id": "YfkTdJG9RyzR",
        "colab_type": "code",
        "colab": {
          "base_uri": "https://localhost:8080/",
          "height": 204
        },
        "outputId": "74f66a0c-b6b1-4ed6-9f49-becc63800170"
      },
      "source": [
        "#observando a estrutura dos dados\n",
        "dados.head()"
      ],
      "execution_count": 4,
      "outputs": [
        {
          "output_type": "execute_result",
          "data": {
            "text/html": [
              "<div>\n",
              "<style scoped>\n",
              "    .dataframe tbody tr th:only-of-type {\n",
              "        vertical-align: middle;\n",
              "    }\n",
              "\n",
              "    .dataframe tbody tr th {\n",
              "        vertical-align: top;\n",
              "    }\n",
              "\n",
              "    .dataframe thead th {\n",
              "        text-align: right;\n",
              "    }\n",
              "</style>\n",
              "<table border=\"1\" class=\"dataframe\">\n",
              "  <thead>\n",
              "    <tr style=\"text-align: right;\">\n",
              "      <th></th>\n",
              "      <th>SNo</th>\n",
              "      <th>ObservationDate</th>\n",
              "      <th>Province/State</th>\n",
              "      <th>Country/Region</th>\n",
              "      <th>Last Update</th>\n",
              "      <th>Confirmed</th>\n",
              "      <th>Deaths</th>\n",
              "      <th>Recovered</th>\n",
              "      <th>Active</th>\n",
              "    </tr>\n",
              "  </thead>\n",
              "  <tbody>\n",
              "    <tr>\n",
              "      <th>0</th>\n",
              "      <td>1</td>\n",
              "      <td>01/22/2020</td>\n",
              "      <td>Anhui</td>\n",
              "      <td>Mainland China</td>\n",
              "      <td>1/22/2020 17:00</td>\n",
              "      <td>1.00</td>\n",
              "      <td>0.00</td>\n",
              "      <td>0.00</td>\n",
              "      <td>1.00</td>\n",
              "    </tr>\n",
              "    <tr>\n",
              "      <th>1</th>\n",
              "      <td>2</td>\n",
              "      <td>01/22/2020</td>\n",
              "      <td>Beijing</td>\n",
              "      <td>Mainland China</td>\n",
              "      <td>1/22/2020 17:00</td>\n",
              "      <td>14.00</td>\n",
              "      <td>0.00</td>\n",
              "      <td>0.00</td>\n",
              "      <td>14.00</td>\n",
              "    </tr>\n",
              "    <tr>\n",
              "      <th>2</th>\n",
              "      <td>3</td>\n",
              "      <td>01/22/2020</td>\n",
              "      <td>Chongqing</td>\n",
              "      <td>Mainland China</td>\n",
              "      <td>1/22/2020 17:00</td>\n",
              "      <td>6.00</td>\n",
              "      <td>0.00</td>\n",
              "      <td>0.00</td>\n",
              "      <td>6.00</td>\n",
              "    </tr>\n",
              "    <tr>\n",
              "      <th>3</th>\n",
              "      <td>4</td>\n",
              "      <td>01/22/2020</td>\n",
              "      <td>Fujian</td>\n",
              "      <td>Mainland China</td>\n",
              "      <td>1/22/2020 17:00</td>\n",
              "      <td>1.00</td>\n",
              "      <td>0.00</td>\n",
              "      <td>0.00</td>\n",
              "      <td>1.00</td>\n",
              "    </tr>\n",
              "    <tr>\n",
              "      <th>4</th>\n",
              "      <td>5</td>\n",
              "      <td>01/22/2020</td>\n",
              "      <td>Gansu</td>\n",
              "      <td>Mainland China</td>\n",
              "      <td>1/22/2020 17:00</td>\n",
              "      <td>0.00</td>\n",
              "      <td>0.00</td>\n",
              "      <td>0.00</td>\n",
              "      <td>0.00</td>\n",
              "    </tr>\n",
              "  </tbody>\n",
              "</table>\n",
              "</div>"
            ],
            "text/plain": [
              "   SNo ObservationDate Province/State  ... Deaths Recovered  Active\n",
              "0    1      01/22/2020          Anhui  ...   0.00      0.00    1.00\n",
              "1    2      01/22/2020        Beijing  ...   0.00      0.00   14.00\n",
              "2    3      01/22/2020      Chongqing  ...   0.00      0.00    6.00\n",
              "3    4      01/22/2020         Fujian  ...   0.00      0.00    1.00\n",
              "4    5      01/22/2020          Gansu  ...   0.00      0.00    0.00\n",
              "\n",
              "[5 rows x 9 columns]"
            ]
          },
          "metadata": {
            "tags": []
          },
          "execution_count": 4
        }
      ]
    },
    {
      "cell_type": "code",
      "metadata": {
        "id": "VjSvJsp3RyzY",
        "colab_type": "code",
        "colab": {
          "base_uri": "https://localhost:8080/",
          "height": 297
        },
        "outputId": "fa8a52ae-10af-4af6-c0e2-94ce5a175bc5"
      },
      "source": [
        "#medidas gerais dos dados\n",
        "dados.describe()"
      ],
      "execution_count": 5,
      "outputs": [
        {
          "output_type": "execute_result",
          "data": {
            "text/html": [
              "<div>\n",
              "<style scoped>\n",
              "    .dataframe tbody tr th:only-of-type {\n",
              "        vertical-align: middle;\n",
              "    }\n",
              "\n",
              "    .dataframe tbody tr th {\n",
              "        vertical-align: top;\n",
              "    }\n",
              "\n",
              "    .dataframe thead th {\n",
              "        text-align: right;\n",
              "    }\n",
              "</style>\n",
              "<table border=\"1\" class=\"dataframe\">\n",
              "  <thead>\n",
              "    <tr style=\"text-align: right;\">\n",
              "      <th></th>\n",
              "      <th>SNo</th>\n",
              "      <th>Confirmed</th>\n",
              "      <th>Deaths</th>\n",
              "      <th>Recovered</th>\n",
              "      <th>Active</th>\n",
              "    </tr>\n",
              "  </thead>\n",
              "  <tbody>\n",
              "    <tr>\n",
              "      <th>count</th>\n",
              "      <td>29,426.00</td>\n",
              "      <td>29,426.00</td>\n",
              "      <td>29,426.00</td>\n",
              "      <td>29,426.00</td>\n",
              "      <td>29,426.00</td>\n",
              "    </tr>\n",
              "    <tr>\n",
              "      <th>mean</th>\n",
              "      <td>14,713.50</td>\n",
              "      <td>6,237.24</td>\n",
              "      <td>408.01</td>\n",
              "      <td>2,003.86</td>\n",
              "      <td>3,825.37</td>\n",
              "    </tr>\n",
              "    <tr>\n",
              "      <th>std</th>\n",
              "      <td>8,494.70</td>\n",
              "      <td>24,551.98</td>\n",
              "      <td>2,289.69</td>\n",
              "      <td>12,326.85</td>\n",
              "      <td>19,883.94</td>\n",
              "    </tr>\n",
              "    <tr>\n",
              "      <th>min</th>\n",
              "      <td>1.00</td>\n",
              "      <td>0.00</td>\n",
              "      <td>0.00</td>\n",
              "      <td>0.00</td>\n",
              "      <td>-379,157.00</td>\n",
              "    </tr>\n",
              "    <tr>\n",
              "      <th>25%</th>\n",
              "      <td>7,357.25</td>\n",
              "      <td>20.00</td>\n",
              "      <td>0.00</td>\n",
              "      <td>0.00</td>\n",
              "      <td>7.00</td>\n",
              "    </tr>\n",
              "    <tr>\n",
              "      <th>50%</th>\n",
              "      <td>14,713.50</td>\n",
              "      <td>252.00</td>\n",
              "      <td>3.00</td>\n",
              "      <td>10.00</td>\n",
              "      <td>87.00</td>\n",
              "    </tr>\n",
              "    <tr>\n",
              "      <th>75%</th>\n",
              "      <td>22,069.75</td>\n",
              "      <td>1,642.75</td>\n",
              "      <td>42.00</td>\n",
              "      <td>251.75</td>\n",
              "      <td>989.75</td>\n",
              "    </tr>\n",
              "    <tr>\n",
              "      <th>max</th>\n",
              "      <td>29,426.00</td>\n",
              "      <td>362,764.00</td>\n",
              "      <td>36,914.00</td>\n",
              "      <td>379,157.00</td>\n",
              "      <td>333,535.00</td>\n",
              "    </tr>\n",
              "  </tbody>\n",
              "</table>\n",
              "</div>"
            ],
            "text/plain": [
              "            SNo  Confirmed    Deaths  Recovered      Active\n",
              "count 29,426.00  29,426.00 29,426.00  29,426.00   29,426.00\n",
              "mean  14,713.50   6,237.24    408.01   2,003.86    3,825.37\n",
              "std    8,494.70  24,551.98  2,289.69  12,326.85   19,883.94\n",
              "min        1.00       0.00      0.00       0.00 -379,157.00\n",
              "25%    7,357.25      20.00      0.00       0.00        7.00\n",
              "50%   14,713.50     252.00      3.00      10.00       87.00\n",
              "75%   22,069.75   1,642.75     42.00     251.75      989.75\n",
              "max   29,426.00 362,764.00 36,914.00 379,157.00  333,535.00"
            ]
          },
          "metadata": {
            "tags": []
          },
          "execution_count": 5
        }
      ]
    },
    {
      "cell_type": "code",
      "metadata": {
        "id": "1RSkpVeSRyzf",
        "colab_type": "code",
        "colab": {
          "base_uri": "https://localhost:8080/",
          "height": 289
        },
        "outputId": "79a155e9-866b-41ff-d61f-29030e33e6de"
      },
      "source": [
        "#informações gerais dos dados\n",
        "dados.info()"
      ],
      "execution_count": 6,
      "outputs": [
        {
          "output_type": "stream",
          "text": [
            "<class 'pandas.core.frame.DataFrame'>\n",
            "RangeIndex: 29426 entries, 0 to 29425\n",
            "Data columns (total 9 columns):\n",
            " #   Column           Non-Null Count  Dtype  \n",
            "---  ------           --------------  -----  \n",
            " 0   SNo              29426 non-null  int64  \n",
            " 1   ObservationDate  29426 non-null  object \n",
            " 2   Province/State   14527 non-null  object \n",
            " 3   Country/Region   29426 non-null  object \n",
            " 4   Last Update      29426 non-null  object \n",
            " 5   Confirmed        29426 non-null  float64\n",
            " 6   Deaths           29426 non-null  float64\n",
            " 7   Recovered        29426 non-null  float64\n",
            " 8   Active           29426 non-null  float64\n",
            "dtypes: float64(4), int64(1), object(4)\n",
            "memory usage: 2.0+ MB\n"
          ],
          "name": "stdout"
        }
      ]
    },
    {
      "cell_type": "markdown",
      "metadata": {
        "id": "kq0iJRHmRyzk",
        "colab_type": "text"
      },
      "source": [
        "### Exercício 1\n",
        "Como fica o grágico com as medidas “Confirmed”, “Deaths”, “Recovered” e “Active” apenas para a China (Mainland China)?"
      ]
    },
    {
      "cell_type": "code",
      "metadata": {
        "id": "m8jj7D9ORyzk",
        "colab_type": "code",
        "colab": {}
      },
      "source": [
        "#função para filtrar dados por país\n",
        "def seleciona_pais(pais):\n",
        "    return dados[dados['Country/Region'] == pais].groupby('ObservationDate').sum().drop(columns='SNo')"
      ],
      "execution_count": 0,
      "outputs": []
    },
    {
      "cell_type": "code",
      "metadata": {
        "id": "ReYyXVfgRyzp",
        "colab_type": "code",
        "colab": {
          "base_uri": "https://localhost:8080/",
          "height": 235
        },
        "outputId": "cee1b962-469a-49fb-f9c8-4c1fec014d90"
      },
      "source": [
        "#criando dataframe com informações da China\n",
        "china = seleciona_pais('Mainland China')\n",
        "china.head()"
      ],
      "execution_count": 8,
      "outputs": [
        {
          "output_type": "execute_result",
          "data": {
            "text/html": [
              "<div>\n",
              "<style scoped>\n",
              "    .dataframe tbody tr th:only-of-type {\n",
              "        vertical-align: middle;\n",
              "    }\n",
              "\n",
              "    .dataframe tbody tr th {\n",
              "        vertical-align: top;\n",
              "    }\n",
              "\n",
              "    .dataframe thead th {\n",
              "        text-align: right;\n",
              "    }\n",
              "</style>\n",
              "<table border=\"1\" class=\"dataframe\">\n",
              "  <thead>\n",
              "    <tr style=\"text-align: right;\">\n",
              "      <th></th>\n",
              "      <th>Confirmed</th>\n",
              "      <th>Deaths</th>\n",
              "      <th>Recovered</th>\n",
              "      <th>Active</th>\n",
              "    </tr>\n",
              "    <tr>\n",
              "      <th>ObservationDate</th>\n",
              "      <th></th>\n",
              "      <th></th>\n",
              "      <th></th>\n",
              "      <th></th>\n",
              "    </tr>\n",
              "  </thead>\n",
              "  <tbody>\n",
              "    <tr>\n",
              "      <th>01/22/2020</th>\n",
              "      <td>547.00</td>\n",
              "      <td>17.00</td>\n",
              "      <td>28.00</td>\n",
              "      <td>502.00</td>\n",
              "    </tr>\n",
              "    <tr>\n",
              "      <th>01/23/2020</th>\n",
              "      <td>639.00</td>\n",
              "      <td>18.00</td>\n",
              "      <td>30.00</td>\n",
              "      <td>591.00</td>\n",
              "    </tr>\n",
              "    <tr>\n",
              "      <th>01/24/2020</th>\n",
              "      <td>916.00</td>\n",
              "      <td>26.00</td>\n",
              "      <td>36.00</td>\n",
              "      <td>854.00</td>\n",
              "    </tr>\n",
              "    <tr>\n",
              "      <th>01/25/2020</th>\n",
              "      <td>1,399.00</td>\n",
              "      <td>42.00</td>\n",
              "      <td>39.00</td>\n",
              "      <td>1,318.00</td>\n",
              "    </tr>\n",
              "    <tr>\n",
              "      <th>01/26/2020</th>\n",
              "      <td>2,062.00</td>\n",
              "      <td>56.00</td>\n",
              "      <td>49.00</td>\n",
              "      <td>1,957.00</td>\n",
              "    </tr>\n",
              "  </tbody>\n",
              "</table>\n",
              "</div>"
            ],
            "text/plain": [
              "                 Confirmed  Deaths  Recovered   Active\n",
              "ObservationDate                                       \n",
              "01/22/2020          547.00   17.00      28.00   502.00\n",
              "01/23/2020          639.00   18.00      30.00   591.00\n",
              "01/24/2020          916.00   26.00      36.00   854.00\n",
              "01/25/2020        1,399.00   42.00      39.00 1,318.00\n",
              "01/26/2020        2,062.00   56.00      49.00 1,957.00"
            ]
          },
          "metadata": {
            "tags": []
          },
          "execution_count": 8
        }
      ]
    },
    {
      "cell_type": "code",
      "metadata": {
        "id": "7e7Hb2AlRyzu",
        "colab_type": "code",
        "colab": {
          "base_uri": "https://localhost:8080/",
          "height": 204
        },
        "outputId": "59083e6c-5317-431a-b427-59c9ab1ff44f"
      },
      "source": [
        "china.info()"
      ],
      "execution_count": 9,
      "outputs": [
        {
          "output_type": "stream",
          "text": [
            "<class 'pandas.core.frame.DataFrame'>\n",
            "Index: 125 entries, 01/22/2020 to 05/25/2020\n",
            "Data columns (total 4 columns):\n",
            " #   Column     Non-Null Count  Dtype  \n",
            "---  ------     --------------  -----  \n",
            " 0   Confirmed  125 non-null    float64\n",
            " 1   Deaths     125 non-null    float64\n",
            " 2   Recovered  125 non-null    float64\n",
            " 3   Active     125 non-null    float64\n",
            "dtypes: float64(4)\n",
            "memory usage: 4.9+ KB\n"
          ],
          "name": "stdout"
        }
      ]
    },
    {
      "cell_type": "code",
      "metadata": {
        "id": "k6iBOiWrRyzy",
        "colab_type": "code",
        "colab": {
          "base_uri": "https://localhost:8080/",
          "height": 458
        },
        "outputId": "b4b60a73-d949-4525-bcb7-2010b5937962"
      },
      "source": [
        "#Criando o gráfico com todos os dados da China\n",
        "ax = sns.lineplot(data=china)\n",
        "ax.figure.set_size_inches(12, 6)\n",
        "ax.set_xticklabels(labels = china.index, rotation = (90), fontsize = 10)\n",
        "ax.xaxis.set_major_locator(plt.MaxNLocator(15))\n",
        "ax"
      ],
      "execution_count": 10,
      "outputs": [
        {
          "output_type": "execute_result",
          "data": {
            "text/plain": [
              "<matplotlib.axes._subplots.AxesSubplot at 0x7f3a6207c5c0>"
            ]
          },
          "metadata": {
            "tags": []
          },
          "execution_count": 10
        },
        {
          "output_type": "display_data",
          "data": {
            "image/png": "[encoded data removed]",
            "text/plain": [
              "<Figure size 864x432 with 1 Axes>"
            ]
          },
          "metadata": {
            "tags": [],
            "needs_background": "light"
          }
        }
      ]
    },
    {
      "cell_type": "markdown",
      "metadata": {
        "id": "cDB_4x3ZRyz2",
        "colab_type": "text"
      },
      "source": [
        "### Exercício 2\n",
        "Filtre por país, selecionando a Coreia do Sul (South Korea). Em que mês esse país atingiu o pico de casos ativos?"
      ]
    },
    {
      "cell_type": "code",
      "metadata": {
        "id": "1uqjxvS_Ryz3",
        "colab_type": "code",
        "colab": {}
      },
      "source": [
        "#Criando função para retornar o mês referente a um dado valor de uma coluna em um determinado dataframe\n",
        "def extrai_mes(df, valor, coluna): #número de casos sempre é positivo\n",
        "\n",
        "    mes = pd.DatetimeIndex(df.loc[df[coluna] == valor].index).month.values[0]\n",
        "    nomes_meses = {1:'Janeiro', 2:'Fevereiro', 3:'Março', 4:'Abril',\n",
        "             5:'Maio', 6:'Junho', 7:'Julho', 8:'Agosto',\n",
        "             9:'Setembro', 10:'Outubro', 11:'Novembro', 12:'Dezembro'}\n",
        "    \n",
        "    for i in range(1, 13):\n",
        "        if i == mes:\n",
        "            mes = nomes_meses[i]\n",
        "            break\n",
        "        else:\n",
        "            continue\n",
        "            \n",
        "    return mes"
      ],
      "execution_count": 0,
      "outputs": []
    },
    {
      "cell_type": "code",
      "metadata": {
        "id": "f9gfEFSxRyz_",
        "colab_type": "code",
        "colab": {
          "base_uri": "https://localhost:8080/",
          "height": 390
        },
        "outputId": "fd5e9e47-6194-405c-bb20-981906c1c4ff"
      },
      "source": [
        "#DF da Coreia do Sul\n",
        "s_korea = seleciona_pais('South Korea')\n",
        "s_korea[50:60] #mostrando parte do DF"
      ],
      "execution_count": 12,
      "outputs": [
        {
          "output_type": "execute_result",
          "data": {
            "text/html": [
              "<div>\n",
              "<style scoped>\n",
              "    .dataframe tbody tr th:only-of-type {\n",
              "        vertical-align: middle;\n",
              "    }\n",
              "\n",
              "    .dataframe tbody tr th {\n",
              "        vertical-align: top;\n",
              "    }\n",
              "\n",
              "    .dataframe thead th {\n",
              "        text-align: right;\n",
              "    }\n",
              "</style>\n",
              "<table border=\"1\" class=\"dataframe\">\n",
              "  <thead>\n",
              "    <tr style=\"text-align: right;\">\n",
              "      <th></th>\n",
              "      <th>Confirmed</th>\n",
              "      <th>Deaths</th>\n",
              "      <th>Recovered</th>\n",
              "      <th>Active</th>\n",
              "    </tr>\n",
              "    <tr>\n",
              "      <th>ObservationDate</th>\n",
              "      <th></th>\n",
              "      <th></th>\n",
              "      <th></th>\n",
              "      <th></th>\n",
              "    </tr>\n",
              "  </thead>\n",
              "  <tbody>\n",
              "    <tr>\n",
              "      <th>03/12/2020</th>\n",
              "      <td>7,869.00</td>\n",
              "      <td>66.00</td>\n",
              "      <td>333.00</td>\n",
              "      <td>7,470.00</td>\n",
              "    </tr>\n",
              "    <tr>\n",
              "      <th>03/13/2020</th>\n",
              "      <td>7,979.00</td>\n",
              "      <td>66.00</td>\n",
              "      <td>510.00</td>\n",
              "      <td>7,403.00</td>\n",
              "    </tr>\n",
              "    <tr>\n",
              "      <th>03/14/2020</th>\n",
              "      <td>8,086.00</td>\n",
              "      <td>72.00</td>\n",
              "      <td>510.00</td>\n",
              "      <td>7,504.00</td>\n",
              "    </tr>\n",
              "    <tr>\n",
              "      <th>03/15/2020</th>\n",
              "      <td>8,162.00</td>\n",
              "      <td>75.00</td>\n",
              "      <td>510.00</td>\n",
              "      <td>7,577.00</td>\n",
              "    </tr>\n",
              "    <tr>\n",
              "      <th>03/16/2020</th>\n",
              "      <td>8,236.00</td>\n",
              "      <td>75.00</td>\n",
              "      <td>1,137.00</td>\n",
              "      <td>7,024.00</td>\n",
              "    </tr>\n",
              "    <tr>\n",
              "      <th>03/17/2020</th>\n",
              "      <td>8,320.00</td>\n",
              "      <td>81.00</td>\n",
              "      <td>1,407.00</td>\n",
              "      <td>6,832.00</td>\n",
              "    </tr>\n",
              "    <tr>\n",
              "      <th>03/18/2020</th>\n",
              "      <td>8,413.00</td>\n",
              "      <td>84.00</td>\n",
              "      <td>1,540.00</td>\n",
              "      <td>6,789.00</td>\n",
              "    </tr>\n",
              "    <tr>\n",
              "      <th>03/19/2020</th>\n",
              "      <td>8,565.00</td>\n",
              "      <td>91.00</td>\n",
              "      <td>1,540.00</td>\n",
              "      <td>6,934.00</td>\n",
              "    </tr>\n",
              "    <tr>\n",
              "      <th>03/20/2020</th>\n",
              "      <td>8,652.00</td>\n",
              "      <td>94.00</td>\n",
              "      <td>1,540.00</td>\n",
              "      <td>7,018.00</td>\n",
              "    </tr>\n",
              "    <tr>\n",
              "      <th>03/21/2020</th>\n",
              "      <td>8,799.00</td>\n",
              "      <td>102.00</td>\n",
              "      <td>1,540.00</td>\n",
              "      <td>7,157.00</td>\n",
              "    </tr>\n",
              "  </tbody>\n",
              "</table>\n",
              "</div>"
            ],
            "text/plain": [
              "                 Confirmed  Deaths  Recovered   Active\n",
              "ObservationDate                                       \n",
              "03/12/2020        7,869.00   66.00     333.00 7,470.00\n",
              "03/13/2020        7,979.00   66.00     510.00 7,403.00\n",
              "03/14/2020        8,086.00   72.00     510.00 7,504.00\n",
              "03/15/2020        8,162.00   75.00     510.00 7,577.00\n",
              "03/16/2020        8,236.00   75.00   1,137.00 7,024.00\n",
              "03/17/2020        8,320.00   81.00   1,407.00 6,832.00\n",
              "03/18/2020        8,413.00   84.00   1,540.00 6,789.00\n",
              "03/19/2020        8,565.00   91.00   1,540.00 6,934.00\n",
              "03/20/2020        8,652.00   94.00   1,540.00 7,018.00\n",
              "03/21/2020        8,799.00  102.00   1,540.00 7,157.00"
            ]
          },
          "metadata": {
            "tags": []
          },
          "execution_count": 12
        }
      ]
    },
    {
      "cell_type": "code",
      "metadata": {
        "id": "sk8QkQZNRy0E",
        "colab_type": "code",
        "colab": {
          "base_uri": "https://localhost:8080/",
          "height": 111
        },
        "outputId": "d702c1b2-fcfb-4e4b-b46d-850af48dcb61"
      },
      "source": [
        "#Dados sobre o valor máximo de casos ativos na Coreia do Sul\n",
        "s_korea.loc[s_korea['Active'] == max(s_korea['Active'])]"
      ],
      "execution_count": 13,
      "outputs": [
        {
          "output_type": "execute_result",
          "data": {
            "text/html": [
              "<div>\n",
              "<style scoped>\n",
              "    .dataframe tbody tr th:only-of-type {\n",
              "        vertical-align: middle;\n",
              "    }\n",
              "\n",
              "    .dataframe tbody tr th {\n",
              "        vertical-align: top;\n",
              "    }\n",
              "\n",
              "    .dataframe thead th {\n",
              "        text-align: right;\n",
              "    }\n",
              "</style>\n",
              "<table border=\"1\" class=\"dataframe\">\n",
              "  <thead>\n",
              "    <tr style=\"text-align: right;\">\n",
              "      <th></th>\n",
              "      <th>Confirmed</th>\n",
              "      <th>Deaths</th>\n",
              "      <th>Recovered</th>\n",
              "      <th>Active</th>\n",
              "    </tr>\n",
              "    <tr>\n",
              "      <th>ObservationDate</th>\n",
              "      <th></th>\n",
              "      <th></th>\n",
              "      <th></th>\n",
              "      <th></th>\n",
              "    </tr>\n",
              "  </thead>\n",
              "  <tbody>\n",
              "    <tr>\n",
              "      <th>03/15/2020</th>\n",
              "      <td>8,162.00</td>\n",
              "      <td>75.00</td>\n",
              "      <td>510.00</td>\n",
              "      <td>7,577.00</td>\n",
              "    </tr>\n",
              "  </tbody>\n",
              "</table>\n",
              "</div>"
            ],
            "text/plain": [
              "                 Confirmed  Deaths  Recovered   Active\n",
              "ObservationDate                                       \n",
              "03/15/2020        8,162.00   75.00     510.00 7,577.00"
            ]
          },
          "metadata": {
            "tags": []
          },
          "execution_count": 13
        }
      ]
    },
    {
      "cell_type": "code",
      "metadata": {
        "id": "hASo6c_CRy0I",
        "colab_type": "code",
        "colab": {
          "base_uri": "https://localhost:8080/",
          "height": 34
        },
        "outputId": "c3752bcb-a41d-4c09-c92b-e5b35c527f9e"
      },
      "source": [
        "#Extração do mês referente ao valor máximo de casos ativos na Coreia do Sul\n",
        "mes = extrai_mes(s_korea, max(s_korea['Active']), 'Active')\n",
        "print(f\"A Coreia do Sul atingiu o maior número de casos ativos em {mes}.\")"
      ],
      "execution_count": 14,
      "outputs": [
        {
          "output_type": "stream",
          "text": [
            "A Coreia do Sul atingiu o maior número de casos ativos em Março.\n"
          ],
          "name": "stdout"
        }
      ]
    },
    {
      "cell_type": "markdown",
      "metadata": {
        "id": "-TXRx_CdRy0K",
        "colab_type": "text"
      },
      "source": [
        "### Exercício 3\n",
        "Filtre por país, selecionando a Itália (Italy). Analise as informações do dataset e responda: em que mês a Itália passou a ter mais casos recuperados do que casos ativos?"
      ]
    },
    {
      "cell_type": "code",
      "metadata": {
        "id": "DLJVMUllRy0L",
        "colab_type": "code",
        "colab": {
          "base_uri": "https://localhost:8080/",
          "height": 235
        },
        "outputId": "e16890b0-7630-44b3-a35f-de38be5836d5"
      },
      "source": [
        "#Dataframe da Itália\n",
        "italia = seleciona_pais('Italy')\n",
        "italia.head()"
      ],
      "execution_count": 15,
      "outputs": [
        {
          "output_type": "execute_result",
          "data": {
            "text/html": [
              "<div>\n",
              "<style scoped>\n",
              "    .dataframe tbody tr th:only-of-type {\n",
              "        vertical-align: middle;\n",
              "    }\n",
              "\n",
              "    .dataframe tbody tr th {\n",
              "        vertical-align: top;\n",
              "    }\n",
              "\n",
              "    .dataframe thead th {\n",
              "        text-align: right;\n",
              "    }\n",
              "</style>\n",
              "<table border=\"1\" class=\"dataframe\">\n",
              "  <thead>\n",
              "    <tr style=\"text-align: right;\">\n",
              "      <th></th>\n",
              "      <th>Confirmed</th>\n",
              "      <th>Deaths</th>\n",
              "      <th>Recovered</th>\n",
              "      <th>Active</th>\n",
              "    </tr>\n",
              "    <tr>\n",
              "      <th>ObservationDate</th>\n",
              "      <th></th>\n",
              "      <th></th>\n",
              "      <th></th>\n",
              "      <th></th>\n",
              "    </tr>\n",
              "  </thead>\n",
              "  <tbody>\n",
              "    <tr>\n",
              "      <th>01/31/2020</th>\n",
              "      <td>2.00</td>\n",
              "      <td>0.00</td>\n",
              "      <td>0.00</td>\n",
              "      <td>2.00</td>\n",
              "    </tr>\n",
              "    <tr>\n",
              "      <th>02/01/2020</th>\n",
              "      <td>2.00</td>\n",
              "      <td>0.00</td>\n",
              "      <td>0.00</td>\n",
              "      <td>2.00</td>\n",
              "    </tr>\n",
              "    <tr>\n",
              "      <th>02/02/2020</th>\n",
              "      <td>2.00</td>\n",
              "      <td>0.00</td>\n",
              "      <td>0.00</td>\n",
              "      <td>2.00</td>\n",
              "    </tr>\n",
              "    <tr>\n",
              "      <th>02/03/2020</th>\n",
              "      <td>2.00</td>\n",
              "      <td>0.00</td>\n",
              "      <td>0.00</td>\n",
              "      <td>2.00</td>\n",
              "    </tr>\n",
              "    <tr>\n",
              "      <th>02/04/2020</th>\n",
              "      <td>2.00</td>\n",
              "      <td>0.00</td>\n",
              "      <td>0.00</td>\n",
              "      <td>2.00</td>\n",
              "    </tr>\n",
              "  </tbody>\n",
              "</table>\n",
              "</div>"
            ],
            "text/plain": [
              "                 Confirmed  Deaths  Recovered  Active\n",
              "ObservationDate                                      \n",
              "01/31/2020            2.00    0.00       0.00    2.00\n",
              "02/01/2020            2.00    0.00       0.00    2.00\n",
              "02/02/2020            2.00    0.00       0.00    2.00\n",
              "02/03/2020            2.00    0.00       0.00    2.00\n",
              "02/04/2020            2.00    0.00       0.00    2.00"
            ]
          },
          "metadata": {
            "tags": []
          },
          "execution_count": 15
        }
      ]
    },
    {
      "cell_type": "code",
      "metadata": {
        "id": "go8PF7XCRy0P",
        "colab_type": "code",
        "colab": {
          "base_uri": "https://localhost:8080/",
          "height": 700
        },
        "outputId": "3b5e4710-451a-40a7-b9de-dcff3f198eb8"
      },
      "source": [
        "#Ocasiões em que o número de casos recuperados foi maior do que o de casos ativos na Itália\n",
        "italia.query('Recovered > Active')"
      ],
      "execution_count": 16,
      "outputs": [
        {
          "output_type": "execute_result",
          "data": {
            "text/html": [
              "<div>\n",
              "<style scoped>\n",
              "    .dataframe tbody tr th:only-of-type {\n",
              "        vertical-align: middle;\n",
              "    }\n",
              "\n",
              "    .dataframe tbody tr th {\n",
              "        vertical-align: top;\n",
              "    }\n",
              "\n",
              "    .dataframe thead th {\n",
              "        text-align: right;\n",
              "    }\n",
              "</style>\n",
              "<table border=\"1\" class=\"dataframe\">\n",
              "  <thead>\n",
              "    <tr style=\"text-align: right;\">\n",
              "      <th></th>\n",
              "      <th>Confirmed</th>\n",
              "      <th>Deaths</th>\n",
              "      <th>Recovered</th>\n",
              "      <th>Active</th>\n",
              "    </tr>\n",
              "    <tr>\n",
              "      <th>ObservationDate</th>\n",
              "      <th></th>\n",
              "      <th></th>\n",
              "      <th></th>\n",
              "      <th></th>\n",
              "    </tr>\n",
              "  </thead>\n",
              "  <tbody>\n",
              "    <tr>\n",
              "      <th>05/06/2020</th>\n",
              "      <td>214,457.00</td>\n",
              "      <td>29,684.00</td>\n",
              "      <td>93,245.00</td>\n",
              "      <td>91,528.00</td>\n",
              "    </tr>\n",
              "    <tr>\n",
              "      <th>05/07/2020</th>\n",
              "      <td>215,858.00</td>\n",
              "      <td>29,958.00</td>\n",
              "      <td>96,276.00</td>\n",
              "      <td>89,624.00</td>\n",
              "    </tr>\n",
              "    <tr>\n",
              "      <th>05/08/2020</th>\n",
              "      <td>217,185.00</td>\n",
              "      <td>30,201.00</td>\n",
              "      <td>99,023.00</td>\n",
              "      <td>87,961.00</td>\n",
              "    </tr>\n",
              "    <tr>\n",
              "      <th>05/09/2020</th>\n",
              "      <td>218,268.00</td>\n",
              "      <td>30,395.00</td>\n",
              "      <td>103,031.00</td>\n",
              "      <td>84,842.00</td>\n",
              "    </tr>\n",
              "    <tr>\n",
              "      <th>05/10/2020</th>\n",
              "      <td>219,070.00</td>\n",
              "      <td>30,560.00</td>\n",
              "      <td>105,186.00</td>\n",
              "      <td>83,324.00</td>\n",
              "    </tr>\n",
              "    <tr>\n",
              "      <th>05/11/2020</th>\n",
              "      <td>219,814.00</td>\n",
              "      <td>30,739.00</td>\n",
              "      <td>106,587.00</td>\n",
              "      <td>82,488.00</td>\n",
              "    </tr>\n",
              "    <tr>\n",
              "      <th>05/12/2020</th>\n",
              "      <td>221,216.00</td>\n",
              "      <td>30,911.00</td>\n",
              "      <td>109,039.00</td>\n",
              "      <td>81,266.00</td>\n",
              "    </tr>\n",
              "    <tr>\n",
              "      <th>05/13/2020</th>\n",
              "      <td>222,104.00</td>\n",
              "      <td>31,106.00</td>\n",
              "      <td>112,541.00</td>\n",
              "      <td>78,457.00</td>\n",
              "    </tr>\n",
              "    <tr>\n",
              "      <th>05/14/2020</th>\n",
              "      <td>223,096.00</td>\n",
              "      <td>31,368.00</td>\n",
              "      <td>115,288.00</td>\n",
              "      <td>76,440.00</td>\n",
              "    </tr>\n",
              "    <tr>\n",
              "      <th>05/15/2020</th>\n",
              "      <td>223,885.00</td>\n",
              "      <td>31,610.00</td>\n",
              "      <td>120,205.00</td>\n",
              "      <td>72,070.00</td>\n",
              "    </tr>\n",
              "    <tr>\n",
              "      <th>05/16/2020</th>\n",
              "      <td>224,760.00</td>\n",
              "      <td>31,763.00</td>\n",
              "      <td>122,810.00</td>\n",
              "      <td>70,187.00</td>\n",
              "    </tr>\n",
              "    <tr>\n",
              "      <th>05/17/2020</th>\n",
              "      <td>225,435.00</td>\n",
              "      <td>31,908.00</td>\n",
              "      <td>125,176.00</td>\n",
              "      <td>68,351.00</td>\n",
              "    </tr>\n",
              "    <tr>\n",
              "      <th>05/18/2020</th>\n",
              "      <td>225,886.00</td>\n",
              "      <td>32,007.00</td>\n",
              "      <td>127,326.00</td>\n",
              "      <td>66,553.00</td>\n",
              "    </tr>\n",
              "    <tr>\n",
              "      <th>05/19/2020</th>\n",
              "      <td>226,699.00</td>\n",
              "      <td>32,169.00</td>\n",
              "      <td>129,401.00</td>\n",
              "      <td>65,129.00</td>\n",
              "    </tr>\n",
              "    <tr>\n",
              "      <th>05/20/2020</th>\n",
              "      <td>227,364.00</td>\n",
              "      <td>32,330.00</td>\n",
              "      <td>132,282.00</td>\n",
              "      <td>62,752.00</td>\n",
              "    </tr>\n",
              "    <tr>\n",
              "      <th>05/21/2020</th>\n",
              "      <td>228,006.00</td>\n",
              "      <td>32,486.00</td>\n",
              "      <td>134,560.00</td>\n",
              "      <td>60,960.00</td>\n",
              "    </tr>\n",
              "    <tr>\n",
              "      <th>05/22/2020</th>\n",
              "      <td>228,658.00</td>\n",
              "      <td>32,616.00</td>\n",
              "      <td>136,720.00</td>\n",
              "      <td>59,322.00</td>\n",
              "    </tr>\n",
              "    <tr>\n",
              "      <th>05/23/2020</th>\n",
              "      <td>229,327.00</td>\n",
              "      <td>32,735.00</td>\n",
              "      <td>138,840.00</td>\n",
              "      <td>57,752.00</td>\n",
              "    </tr>\n",
              "    <tr>\n",
              "      <th>05/24/2020</th>\n",
              "      <td>229,858.00</td>\n",
              "      <td>32,785.00</td>\n",
              "      <td>140,479.00</td>\n",
              "      <td>56,594.00</td>\n",
              "    </tr>\n",
              "    <tr>\n",
              "      <th>05/25/2020</th>\n",
              "      <td>230,158.00</td>\n",
              "      <td>32,877.00</td>\n",
              "      <td>141,981.00</td>\n",
              "      <td>55,300.00</td>\n",
              "    </tr>\n",
              "  </tbody>\n",
              "</table>\n",
              "</div>"
            ],
            "text/plain": [
              "                 Confirmed    Deaths  Recovered    Active\n",
              "ObservationDate                                          \n",
              "05/06/2020      214,457.00 29,684.00  93,245.00 91,528.00\n",
              "05/07/2020      215,858.00 29,958.00  96,276.00 89,624.00\n",
              "05/08/2020      217,185.00 30,201.00  99,023.00 87,961.00\n",
              "05/09/2020      218,268.00 30,395.00 103,031.00 84,842.00\n",
              "05/10/2020      219,070.00 30,560.00 105,186.00 83,324.00\n",
              "05/11/2020      219,814.00 30,739.00 106,587.00 82,488.00\n",
              "05/12/2020      221,216.00 30,911.00 109,039.00 81,266.00\n",
              "05/13/2020      222,104.00 31,106.00 112,541.00 78,457.00\n",
              "05/14/2020      223,096.00 31,368.00 115,288.00 76,440.00\n",
              "05/15/2020      223,885.00 31,610.00 120,205.00 72,070.00\n",
              "05/16/2020      224,760.00 31,763.00 122,810.00 70,187.00\n",
              "05/17/2020      225,435.00 31,908.00 125,176.00 68,351.00\n",
              "05/18/2020      225,886.00 32,007.00 127,326.00 66,553.00\n",
              "05/19/2020      226,699.00 32,169.00 129,401.00 65,129.00\n",
              "05/20/2020      227,364.00 32,330.00 132,282.00 62,752.00\n",
              "05/21/2020      228,006.00 32,486.00 134,560.00 60,960.00\n",
              "05/22/2020      228,658.00 32,616.00 136,720.00 59,322.00\n",
              "05/23/2020      229,327.00 32,735.00 138,840.00 57,752.00\n",
              "05/24/2020      229,858.00 32,785.00 140,479.00 56,594.00\n",
              "05/25/2020      230,158.00 32,877.00 141,981.00 55,300.00"
            ]
          },
          "metadata": {
            "tags": []
          },
          "execution_count": 16
        }
      ]
    },
    {
      "cell_type": "code",
      "metadata": {
        "id": "410gJ9N2Ry0S",
        "colab_type": "code",
        "colab": {
          "base_uri": "https://localhost:8080/",
          "height": 34
        },
        "outputId": "af002728-8436-49ea-96d4-4ec1e4c5e95e"
      },
      "source": [
        "#Obtenção do mês em que o fenômeno ocorreu pela primeira vez\n",
        "mes = extrai_mes(italia.query('Recovered > Active'), \n",
        "                 italia.query('Recovered > Active')['Recovered'].head(1).values[0], \n",
        "                 'Recovered')\n",
        "print(f'A Itália passou a ter mais casos Recuperados do que Ativos no mês de {mes}')"
      ],
      "execution_count": 17,
      "outputs": [
        {
          "output_type": "stream",
          "text": [
            "A Itália passou a ter mais casos Recuperados do que Ativos no mês de Maio\n"
          ],
          "name": "stdout"
        }
      ]
    },
    {
      "cell_type": "markdown",
      "metadata": {
        "id": "NRXRths2Ry0U",
        "colab_type": "text"
      },
      "source": [
        "### Exercício 4\n",
        "Ao criar um gráfico com a medida “Active”, apenas para a Itália (Italy), como fica o gráfico?"
      ]
    },
    {
      "cell_type": "code",
      "metadata": {
        "id": "EZ18u0m0Ry0V",
        "colab_type": "code",
        "colab": {
          "base_uri": "https://localhost:8080/",
          "height": 441
        },
        "outputId": "5256242a-6883-4692-f190-11215330ddec"
      },
      "source": [
        "#Gráico apenas com os valores dos casos ativos da Itália no período observado\n",
        "sns.set(style=\"darkgrid\")\n",
        "ax = sns.lineplot(data=italia.groupby('ObservationDate').sum()['Active'])\n",
        "ax.figure.set_size_inches(12, 6)\n",
        "ax.set_xticklabels(labels = italia.index, rotation = (90), fontsize = 10)\n",
        "ax.xaxis.set_major_locator(plt.MaxNLocator(15))\n",
        "ax"
      ],
      "execution_count": 18,
      "outputs": [
        {
          "output_type": "execute_result",
          "data": {
            "text/plain": [
              "<matplotlib.axes._subplots.AxesSubplot at 0x7f3a630bf6a0>"
            ]
          },
          "metadata": {
            "tags": []
          },
          "execution_count": 18
        },
        {
          "output_type": "display_data",
          "data": {
            "image/png": "[encoded data removed]",
            "text/plain": [
              "<Figure size 864x432 with 1 Axes>"
            ]
          },
          "metadata": {
            "tags": []
          }
        }
      ]
    },
    {
      "cell_type": "markdown",
      "metadata": {
        "id": "sSrbkE3nRy0X",
        "colab_type": "text"
      },
      "source": [
        "### Exercício 5\n",
        "Filtre por país, selecionando a Venezuela, analise as informações, perceba que algumas vezes o número de casos recuperados foi maior que o de casos ativos. Em que mês isso ocorreu pela primeira vez?"
      ]
    },
    {
      "cell_type": "code",
      "metadata": {
        "id": "rAXYVC7ARy0Y",
        "colab_type": "code",
        "colab": {}
      },
      "source": [
        "#Dataframe da Venezuela\n",
        "venezuela = seleciona_pais('Venezuela')"
      ],
      "execution_count": 0,
      "outputs": []
    },
    {
      "cell_type": "code",
      "metadata": {
        "id": "e_cFLzs7Ry0a",
        "colab_type": "code",
        "colab": {
          "base_uri": "https://localhost:8080/",
          "height": 514
        },
        "outputId": "76986145-8ba5-4f1b-92ca-0cfa84075978"
      },
      "source": [
        "#Ocasiões em que o número de casos recuperados foi maior do que o de casos ativos na Venezuela\n",
        "venezuela.query('Recovered > Active')"
      ],
      "execution_count": 20,
      "outputs": [
        {
          "output_type": "execute_result",
          "data": {
            "text/html": [
              "<div>\n",
              "<style scoped>\n",
              "    .dataframe tbody tr th:only-of-type {\n",
              "        vertical-align: middle;\n",
              "    }\n",
              "\n",
              "    .dataframe tbody tr th {\n",
              "        vertical-align: top;\n",
              "    }\n",
              "\n",
              "    .dataframe thead th {\n",
              "        text-align: right;\n",
              "    }\n",
              "</style>\n",
              "<table border=\"1\" class=\"dataframe\">\n",
              "  <thead>\n",
              "    <tr style=\"text-align: right;\">\n",
              "      <th></th>\n",
              "      <th>Confirmed</th>\n",
              "      <th>Deaths</th>\n",
              "      <th>Recovered</th>\n",
              "      <th>Active</th>\n",
              "    </tr>\n",
              "    <tr>\n",
              "      <th>ObservationDate</th>\n",
              "      <th></th>\n",
              "      <th></th>\n",
              "      <th></th>\n",
              "      <th></th>\n",
              "    </tr>\n",
              "  </thead>\n",
              "  <tbody>\n",
              "    <tr>\n",
              "      <th>04/09/2020</th>\n",
              "      <td>171.00</td>\n",
              "      <td>9.00</td>\n",
              "      <td>84.00</td>\n",
              "      <td>78.00</td>\n",
              "    </tr>\n",
              "    <tr>\n",
              "      <th>04/10/2020</th>\n",
              "      <td>171.00</td>\n",
              "      <td>9.00</td>\n",
              "      <td>84.00</td>\n",
              "      <td>78.00</td>\n",
              "    </tr>\n",
              "    <tr>\n",
              "      <th>04/11/2020</th>\n",
              "      <td>175.00</td>\n",
              "      <td>9.00</td>\n",
              "      <td>93.00</td>\n",
              "      <td>73.00</td>\n",
              "    </tr>\n",
              "    <tr>\n",
              "      <th>04/12/2020</th>\n",
              "      <td>181.00</td>\n",
              "      <td>9.00</td>\n",
              "      <td>93.00</td>\n",
              "      <td>79.00</td>\n",
              "    </tr>\n",
              "    <tr>\n",
              "      <th>04/13/2020</th>\n",
              "      <td>189.00</td>\n",
              "      <td>9.00</td>\n",
              "      <td>110.00</td>\n",
              "      <td>70.00</td>\n",
              "    </tr>\n",
              "    <tr>\n",
              "      <th>04/14/2020</th>\n",
              "      <td>189.00</td>\n",
              "      <td>9.00</td>\n",
              "      <td>110.00</td>\n",
              "      <td>70.00</td>\n",
              "    </tr>\n",
              "    <tr>\n",
              "      <th>04/15/2020</th>\n",
              "      <td>197.00</td>\n",
              "      <td>9.00</td>\n",
              "      <td>111.00</td>\n",
              "      <td>77.00</td>\n",
              "    </tr>\n",
              "    <tr>\n",
              "      <th>04/16/2020</th>\n",
              "      <td>204.00</td>\n",
              "      <td>9.00</td>\n",
              "      <td>111.00</td>\n",
              "      <td>84.00</td>\n",
              "    </tr>\n",
              "    <tr>\n",
              "      <th>04/17/2020</th>\n",
              "      <td>204.00</td>\n",
              "      <td>9.00</td>\n",
              "      <td>111.00</td>\n",
              "      <td>84.00</td>\n",
              "    </tr>\n",
              "    <tr>\n",
              "      <th>04/18/2020</th>\n",
              "      <td>227.00</td>\n",
              "      <td>9.00</td>\n",
              "      <td>113.00</td>\n",
              "      <td>105.00</td>\n",
              "    </tr>\n",
              "    <tr>\n",
              "      <th>05/08/2020</th>\n",
              "      <td>388.00</td>\n",
              "      <td>10.00</td>\n",
              "      <td>190.00</td>\n",
              "      <td>188.00</td>\n",
              "    </tr>\n",
              "    <tr>\n",
              "      <th>05/12/2020</th>\n",
              "      <td>423.00</td>\n",
              "      <td>10.00</td>\n",
              "      <td>220.00</td>\n",
              "      <td>193.00</td>\n",
              "    </tr>\n",
              "    <tr>\n",
              "      <th>05/13/2020</th>\n",
              "      <td>423.00</td>\n",
              "      <td>10.00</td>\n",
              "      <td>220.00</td>\n",
              "      <td>193.00</td>\n",
              "    </tr>\n",
              "    <tr>\n",
              "      <th>05/15/2020</th>\n",
              "      <td>459.00</td>\n",
              "      <td>10.00</td>\n",
              "      <td>229.00</td>\n",
              "      <td>220.00</td>\n",
              "    </tr>\n",
              "  </tbody>\n",
              "</table>\n",
              "</div>"
            ],
            "text/plain": [
              "                 Confirmed  Deaths  Recovered  Active\n",
              "ObservationDate                                      \n",
              "04/09/2020          171.00    9.00      84.00   78.00\n",
              "04/10/2020          171.00    9.00      84.00   78.00\n",
              "04/11/2020          175.00    9.00      93.00   73.00\n",
              "04/12/2020          181.00    9.00      93.00   79.00\n",
              "04/13/2020          189.00    9.00     110.00   70.00\n",
              "04/14/2020          189.00    9.00     110.00   70.00\n",
              "04/15/2020          197.00    9.00     111.00   77.00\n",
              "04/16/2020          204.00    9.00     111.00   84.00\n",
              "04/17/2020          204.00    9.00     111.00   84.00\n",
              "04/18/2020          227.00    9.00     113.00  105.00\n",
              "05/08/2020          388.00   10.00     190.00  188.00\n",
              "05/12/2020          423.00   10.00     220.00  193.00\n",
              "05/13/2020          423.00   10.00     220.00  193.00\n",
              "05/15/2020          459.00   10.00     229.00  220.00"
            ]
          },
          "metadata": {
            "tags": []
          },
          "execution_count": 20
        }
      ]
    },
    {
      "cell_type": "code",
      "metadata": {
        "id": "hp3up2xZRy0d",
        "colab_type": "code",
        "colab": {
          "base_uri": "https://localhost:8080/",
          "height": 34
        },
        "outputId": "8f11a843-47dc-42a1-b5f2-818364ff65f0"
      },
      "source": [
        "#Obtenção do mês em que o fenômeno ocorreu pela primeira vez\n",
        "mes = extrai_mes(venezuela.query('Recovered > Active'), \n",
        "                 venezuela.query('Recovered > Active')['Recovered'].head(1).values[0], \n",
        "                 'Recovered')\n",
        "print(f'A Venezuela passou a ter mais casos Recuperados do que Ativos no mês de {mes}.')"
      ],
      "execution_count": 21,
      "outputs": [
        {
          "output_type": "stream",
          "text": [
            "A Venezuela passou a ter mais casos Recuperados do que Ativos no mês de Abril.\n"
          ],
          "name": "stdout"
        }
      ]
    }
  ]
}